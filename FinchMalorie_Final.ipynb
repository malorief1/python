{
  "nbformat": 4,
  "nbformat_minor": 0,
  "metadata": {
    "colab": {
      "name": "FinchMalorie_Final.ipynb",
      "provenance": []
    },
    "kernelspec": {
      "name": "python3",
      "display_name": "Python 3"
    }
  },
  "cells": [
    {
      "cell_type": "code",
      "metadata": {
        "id": "IZEJ2xNEzhPt"
      },
      "source": [
        "import pandas as pd\n",
        "import matplotlib.pyplot as plt\n",
        "import seaborn as sns"
      ],
      "execution_count": null,
      "outputs": []
    },
    {
      "cell_type": "code",
      "metadata": {
        "id": "P8z263gv0b5M",
        "colab": {
          "base_uri": "https://localhost:8080/",
          "height": 439
        },
        "outputId": "11308c9e-e27e-4742-e7d7-e567f83ccb01"
      },
      "source": [
        "sales = pd.read_csv('/content/drive/My Drive/SalesData.csv')\n",
        "sales"
      ],
      "execution_count": null,
      "outputs": [
        {
          "output_type": "execute_result",
          "data": {
            "text/html": [
              "<div>\n",
              "<style scoped>\n",
              "    .dataframe tbody tr th:only-of-type {\n",
              "        vertical-align: middle;\n",
              "    }\n",
              "\n",
              "    .dataframe tbody tr th {\n",
              "        vertical-align: top;\n",
              "    }\n",
              "\n",
              "    .dataframe thead th {\n",
              "        text-align: right;\n",
              "    }\n",
              "</style>\n",
              "<table border=\"1\" class=\"dataframe\">\n",
              "  <thead>\n",
              "    <tr style=\"text-align: right;\">\n",
              "      <th></th>\n",
              "      <th>Attainment</th>\n",
              "      <th>Calls</th>\n",
              "      <th>Emails</th>\n",
              "      <th>Engagement</th>\n",
              "      <th>HasDegree</th>\n",
              "      <th>HoursWorked</th>\n",
              "      <th>Live</th>\n",
              "      <th>Meetings</th>\n",
              "      <th>Pipeline</th>\n",
              "      <th>Prizes</th>\n",
              "      <th>Questions</th>\n",
              "      <th>Ratio</th>\n",
              "      <th>Sentiment</th>\n",
              "      <th>TeamSize</th>\n",
              "      <th>TrainProd</th>\n",
              "      <th>TrainSales</th>\n",
              "    </tr>\n",
              "  </thead>\n",
              "  <tbody>\n",
              "    <tr>\n",
              "      <th>0</th>\n",
              "      <td>0.053575</td>\n",
              "      <td>61.0</td>\n",
              "      <td>929</td>\n",
              "      <td>3.424084</td>\n",
              "      <td>0.75</td>\n",
              "      <td>454.563783</td>\n",
              "      <td>0.243379</td>\n",
              "      <td>21</td>\n",
              "      <td>256354</td>\n",
              "      <td>960</td>\n",
              "      <td>6.0</td>\n",
              "      <td>0.620010</td>\n",
              "      <td>5.050705</td>\n",
              "      <td>10</td>\n",
              "      <td>21.0</td>\n",
              "      <td>65</td>\n",
              "    </tr>\n",
              "    <tr>\n",
              "      <th>1</th>\n",
              "      <td>0.060142</td>\n",
              "      <td>70.0</td>\n",
              "      <td>517</td>\n",
              "      <td>3.128567</td>\n",
              "      <td>1.00</td>\n",
              "      <td>464.381755</td>\n",
              "      <td>0.207529</td>\n",
              "      <td>21</td>\n",
              "      <td>252552</td>\n",
              "      <td>1406</td>\n",
              "      <td>3.0</td>\n",
              "      <td>0.882232</td>\n",
              "      <td>4.934229</td>\n",
              "      <td>8</td>\n",
              "      <td>19.0</td>\n",
              "      <td>62</td>\n",
              "    </tr>\n",
              "    <tr>\n",
              "      <th>2</th>\n",
              "      <td>0.062694</td>\n",
              "      <td>69.0</td>\n",
              "      <td>231</td>\n",
              "      <td>3.237094</td>\n",
              "      <td>0.50</td>\n",
              "      <td>470.261626</td>\n",
              "      <td>0.136013</td>\n",
              "      <td>21</td>\n",
              "      <td>282094</td>\n",
              "      <td>1655</td>\n",
              "      <td>4.0</td>\n",
              "      <td>0.812933</td>\n",
              "      <td>6.146106</td>\n",
              "      <td>6</td>\n",
              "      <td>27.0</td>\n",
              "      <td>64</td>\n",
              "    </tr>\n",
              "    <tr>\n",
              "      <th>3</th>\n",
              "      <td>0.072924</td>\n",
              "      <td>33.0</td>\n",
              "      <td>532</td>\n",
              "      <td>NaN</td>\n",
              "      <td>0.25</td>\n",
              "      <td>435.785692</td>\n",
              "      <td>0.220848</td>\n",
              "      <td>18</td>\n",
              "      <td>222374</td>\n",
              "      <td>2385</td>\n",
              "      <td>400.0</td>\n",
              "      <td>0.732378</td>\n",
              "      <td>5.186325</td>\n",
              "      <td>13</td>\n",
              "      <td>17.0</td>\n",
              "      <td>64</td>\n",
              "    </tr>\n",
              "    <tr>\n",
              "      <th>4</th>\n",
              "      <td>0.077626</td>\n",
              "      <td>38.0</td>\n",
              "      <td>428</td>\n",
              "      <td>3.612517</td>\n",
              "      <td>0.75</td>\n",
              "      <td>481.584611</td>\n",
              "      <td>0.353637</td>\n",
              "      <td>29</td>\n",
              "      <td>217384</td>\n",
              "      <td>1733</td>\n",
              "      <td>4.0</td>\n",
              "      <td>0.833299</td>\n",
              "      <td>5.470473</td>\n",
              "      <td>8</td>\n",
              "      <td>18.0</td>\n",
              "      <td>55</td>\n",
              "    </tr>\n",
              "    <tr>\n",
              "      <th>...</th>\n",
              "      <td>...</td>\n",
              "      <td>...</td>\n",
              "      <td>...</td>\n",
              "      <td>...</td>\n",
              "      <td>...</td>\n",
              "      <td>...</td>\n",
              "      <td>...</td>\n",
              "      <td>...</td>\n",
              "      <td>...</td>\n",
              "      <td>...</td>\n",
              "      <td>...</td>\n",
              "      <td>...</td>\n",
              "      <td>...</td>\n",
              "      <td>...</td>\n",
              "      <td>...</td>\n",
              "      <td>...</td>\n",
              "    </tr>\n",
              "    <tr>\n",
              "      <th>473</th>\n",
              "      <td>2.310336</td>\n",
              "      <td>71.0</td>\n",
              "      <td>635</td>\n",
              "      <td>3.903871</td>\n",
              "      <td>0.25</td>\n",
              "      <td>487.205679</td>\n",
              "      <td>0.620823</td>\n",
              "      <td>23</td>\n",
              "      <td>321498</td>\n",
              "      <td>2687</td>\n",
              "      <td>5.0</td>\n",
              "      <td>0.694004</td>\n",
              "      <td>6.706751</td>\n",
              "      <td>8</td>\n",
              "      <td>27.0</td>\n",
              "      <td>69</td>\n",
              "    </tr>\n",
              "    <tr>\n",
              "      <th>474</th>\n",
              "      <td>2.338629</td>\n",
              "      <td>69.0</td>\n",
              "      <td>303</td>\n",
              "      <td>3.616292</td>\n",
              "      <td>0.00</td>\n",
              "      <td>457.488144</td>\n",
              "      <td>0.592753</td>\n",
              "      <td>26</td>\n",
              "      <td>324659</td>\n",
              "      <td>3150</td>\n",
              "      <td>5.0</td>\n",
              "      <td>0.685805</td>\n",
              "      <td>7.058483</td>\n",
              "      <td>9</td>\n",
              "      <td>32.0</td>\n",
              "      <td>54</td>\n",
              "    </tr>\n",
              "    <tr>\n",
              "      <th>475</th>\n",
              "      <td>2.548678</td>\n",
              "      <td>57.0</td>\n",
              "      <td>818</td>\n",
              "      <td>4.185094</td>\n",
              "      <td>0.25</td>\n",
              "      <td>470.960123</td>\n",
              "      <td>0.594773</td>\n",
              "      <td>24</td>\n",
              "      <td>347032</td>\n",
              "      <td>2721</td>\n",
              "      <td>4.0</td>\n",
              "      <td>0.634341</td>\n",
              "      <td>7.162894</td>\n",
              "      <td>11</td>\n",
              "      <td>29.0</td>\n",
              "      <td>75</td>\n",
              "    </tr>\n",
              "    <tr>\n",
              "      <th>476</th>\n",
              "      <td>2.669492</td>\n",
              "      <td>61.0</td>\n",
              "      <td>655</td>\n",
              "      <td>3.999089</td>\n",
              "      <td>0.25</td>\n",
              "      <td>479.703249</td>\n",
              "      <td>0.619596</td>\n",
              "      <td>31</td>\n",
              "      <td>269709</td>\n",
              "      <td>3227</td>\n",
              "      <td>6.0</td>\n",
              "      <td>0.615081</td>\n",
              "      <td>7.447181</td>\n",
              "      <td>8</td>\n",
              "      <td>31.0</td>\n",
              "      <td>75</td>\n",
              "    </tr>\n",
              "    <tr>\n",
              "      <th>477</th>\n",
              "      <td>3.296522</td>\n",
              "      <td>57.0</td>\n",
              "      <td>722</td>\n",
              "      <td>4.000419</td>\n",
              "      <td>0.50</td>\n",
              "      <td>490.289170</td>\n",
              "      <td>0.526665</td>\n",
              "      <td>22</td>\n",
              "      <td>334612</td>\n",
              "      <td>2175</td>\n",
              "      <td>4.0</td>\n",
              "      <td>0.400418</td>\n",
              "      <td>7.006606</td>\n",
              "      <td>4</td>\n",
              "      <td>26.0</td>\n",
              "      <td>68</td>\n",
              "    </tr>\n",
              "  </tbody>\n",
              "</table>\n",
              "<p>478 rows × 16 columns</p>\n",
              "</div>"
            ],
            "text/plain": [
              "     Attainment  Calls  Emails  ...  TeamSize  TrainProd  TrainSales\n",
              "0      0.053575   61.0     929  ...        10       21.0          65\n",
              "1      0.060142   70.0     517  ...         8       19.0          62\n",
              "2      0.062694   69.0     231  ...         6       27.0          64\n",
              "3      0.072924   33.0     532  ...        13       17.0          64\n",
              "4      0.077626   38.0     428  ...         8       18.0          55\n",
              "..          ...    ...     ...  ...       ...        ...         ...\n",
              "473    2.310336   71.0     635  ...         8       27.0          69\n",
              "474    2.338629   69.0     303  ...         9       32.0          54\n",
              "475    2.548678   57.0     818  ...        11       29.0          75\n",
              "476    2.669492   61.0     655  ...         8       31.0          75\n",
              "477    3.296522   57.0     722  ...         4       26.0          68\n",
              "\n",
              "[478 rows x 16 columns]"
            ]
          },
          "metadata": {
            "tags": []
          },
          "execution_count": 318
        }
      ]
    },
    {
      "cell_type": "code",
      "metadata": {
        "id": "Ldfmvndy03YS",
        "colab": {
          "base_uri": "https://localhost:8080/",
          "height": 306
        },
        "outputId": "d2762136-58ec-4d34-c547-d284db538e8b"
      },
      "source": [
        "# Null values\n",
        "sales.isnull().sum()"
      ],
      "execution_count": null,
      "outputs": [
        {
          "output_type": "execute_result",
          "data": {
            "text/plain": [
              "Attainment     0\n",
              "Calls          5\n",
              "Emails         0\n",
              "Engagement     5\n",
              "HasDegree      0\n",
              "HoursWorked    5\n",
              "Live           0\n",
              "Meetings       0\n",
              "Pipeline       0\n",
              "Prizes         0\n",
              "Questions      5\n",
              "Ratio          0\n",
              "Sentiment      5\n",
              "TeamSize       0\n",
              "TrainProd      5\n",
              "TrainSales     0\n",
              "dtype: int64"
            ]
          },
          "metadata": {
            "tags": []
          },
          "execution_count": 319
        }
      ]
    },
    {
      "cell_type": "code",
      "metadata": {
        "id": "lwHzEkSr1dsF",
        "colab": {
          "base_uri": "https://localhost:8080/",
          "height": 1000
        },
        "outputId": "55a7aace-3750-499d-d92e-dc8629b646ed"
      },
      "source": [
        "# Outliers\n",
        "\n",
        "outliers = pd.DataFrame(\n",
        "    columns = ['min_cutoff', 'below_min', 'max_cutoff', 'above_max']\n",
        ")\n",
        "\n",
        "for col in sales.columns:\n",
        "  if pd.api.types.is_numeric_dtype(sales[col]) and not \\\n",
        "  all(sales[col].value_counts().index.isin([1,0])):\n",
        "    \n",
        "    min_cutoff = sales[col].mean() - sales[col].std() * 3\n",
        "    max_cutoff = sales[col].mean() + sales[col].std() * 3\n",
        "\n",
        "    below_min = sum(sales[col] < min_cutoff)\n",
        "    above_max = sum(sales[col] > max_cutoff)\n",
        "\n",
        "    if col != \"Attainment\":\n",
        "      for i, value in enumerate(sales[col]):\n",
        "        if value < min_cutoff:\n",
        "          print(col, value)         #Just to see what values we are working with\n",
        "        elif value > max_cutoff:\n",
        "          print(col, value)       #Just to see what values we are working with\n",
        "\n",
        "    outliers.loc[col] = (min_cutoff, below_min, max_cutoff, above_max)\n",
        "\n",
        "outliers"
      ],
      "execution_count": null,
      "outputs": [
        {
          "output_type": "stream",
          "text": [
            "Calls 18.0\n",
            "Emails 2535\n",
            "Emails 2174\n",
            "Emails 1972\n",
            "Emails 2123\n",
            "Emails 1965\n",
            "Emails 1918\n",
            "Emails 2192\n",
            "Emails 2694\n",
            "HasDegree 25.0\n",
            "HasDegree 25.0\n",
            "HasDegree 25.0\n",
            "HasDegree 75.0\n",
            "HoursWorked 47254.23585\n",
            "HoursWorked 47062.54242\n",
            "HoursWorked 46380.54038\n",
            "HoursWorked 52443.833060000004\n",
            "HoursWorked 46175.16236\n",
            "Questions 400.0\n",
            "Questions 400.0\n",
            "Questions 500.0\n",
            "Questions 600.0\n",
            "Questions 600.0\n",
            "Sentiment 607.7105152\n",
            "Sentiment 556.6373437999999\n",
            "Sentiment 501.67145530000005\n",
            "Sentiment 540.8985669\n",
            "Sentiment 429.39330250000006\n",
            "TrainProd 1800.0\n",
            "TrainProd 2800.0\n",
            "TrainProd 2500.0\n",
            "TrainProd 2800.0\n",
            "TrainProd 2000.0\n",
            "TrainSales 5300\n",
            "TrainSales 6300\n",
            "TrainSales 6300\n",
            "TrainSales 6200\n",
            "TrainSales 6600\n"
          ],
          "name": "stdout"
        },
        {
          "output_type": "execute_result",
          "data": {
            "text/html": [
              "<div>\n",
              "<style scoped>\n",
              "    .dataframe tbody tr th:only-of-type {\n",
              "        vertical-align: middle;\n",
              "    }\n",
              "\n",
              "    .dataframe tbody tr th {\n",
              "        vertical-align: top;\n",
              "    }\n",
              "\n",
              "    .dataframe thead th {\n",
              "        text-align: right;\n",
              "    }\n",
              "</style>\n",
              "<table border=\"1\" class=\"dataframe\">\n",
              "  <thead>\n",
              "    <tr style=\"text-align: right;\">\n",
              "      <th></th>\n",
              "      <th>min_cutoff</th>\n",
              "      <th>below_min</th>\n",
              "      <th>max_cutoff</th>\n",
              "      <th>above_max</th>\n",
              "    </tr>\n",
              "  </thead>\n",
              "  <tbody>\n",
              "    <tr>\n",
              "      <th>Attainment</th>\n",
              "      <td>-0.832813</td>\n",
              "      <td>0.0</td>\n",
              "      <td>2.185121</td>\n",
              "      <td>7.0</td>\n",
              "    </tr>\n",
              "    <tr>\n",
              "      <th>Calls</th>\n",
              "      <td>24.715405</td>\n",
              "      <td>1.0</td>\n",
              "      <td>95.715885</td>\n",
              "      <td>0.0</td>\n",
              "    </tr>\n",
              "    <tr>\n",
              "      <th>Emails</th>\n",
              "      <td>-678.902271</td>\n",
              "      <td>0.0</td>\n",
              "      <td>1907.165870</td>\n",
              "      <td>8.0</td>\n",
              "    </tr>\n",
              "    <tr>\n",
              "      <th>Engagement</th>\n",
              "      <td>2.367018</td>\n",
              "      <td>0.0</td>\n",
              "      <td>5.046764</td>\n",
              "      <td>0.0</td>\n",
              "    </tr>\n",
              "    <tr>\n",
              "      <th>HasDegree</th>\n",
              "      <td>-11.003005</td>\n",
              "      <td>0.0</td>\n",
              "      <td>12.585641</td>\n",
              "      <td>4.0</td>\n",
              "    </tr>\n",
              "    <tr>\n",
              "      <th>HoursWorked</th>\n",
              "      <td>-13589.766999</td>\n",
              "      <td>0.0</td>\n",
              "      <td>15551.793851</td>\n",
              "      <td>5.0</td>\n",
              "    </tr>\n",
              "    <tr>\n",
              "      <th>Live</th>\n",
              "      <td>-0.084663</td>\n",
              "      <td>0.0</td>\n",
              "      <td>0.969638</td>\n",
              "      <td>0.0</td>\n",
              "    </tr>\n",
              "    <tr>\n",
              "      <th>Meetings</th>\n",
              "      <td>6.305889</td>\n",
              "      <td>0.0</td>\n",
              "      <td>41.715032</td>\n",
              "      <td>0.0</td>\n",
              "    </tr>\n",
              "    <tr>\n",
              "      <th>Pipeline</th>\n",
              "      <td>151697.776362</td>\n",
              "      <td>0.0</td>\n",
              "      <td>421955.089747</td>\n",
              "      <td>0.0</td>\n",
              "    </tr>\n",
              "    <tr>\n",
              "      <th>Prizes</th>\n",
              "      <td>502.132505</td>\n",
              "      <td>0.0</td>\n",
              "      <td>4013.574608</td>\n",
              "      <td>0.0</td>\n",
              "    </tr>\n",
              "    <tr>\n",
              "      <th>Questions</th>\n",
              "      <td>-144.863838</td>\n",
              "      <td>0.0</td>\n",
              "      <td>164.504430</td>\n",
              "      <td>5.0</td>\n",
              "    </tr>\n",
              "    <tr>\n",
              "      <th>Ratio</th>\n",
              "      <td>0.117968</td>\n",
              "      <td>0.0</td>\n",
              "      <td>1.156445</td>\n",
              "      <td>0.0</td>\n",
              "    </tr>\n",
              "    <tr>\n",
              "      <th>Sentiment</th>\n",
              "      <td>-149.598025</td>\n",
              "      <td>0.0</td>\n",
              "      <td>172.751008</td>\n",
              "      <td>5.0</td>\n",
              "    </tr>\n",
              "    <tr>\n",
              "      <th>TeamSize</th>\n",
              "      <td>1.743143</td>\n",
              "      <td>0.0</td>\n",
              "      <td>15.788238</td>\n",
              "      <td>0.0</td>\n",
              "    </tr>\n",
              "    <tr>\n",
              "      <th>TrainProd</th>\n",
              "      <td>-688.115560</td>\n",
              "      <td>0.0</td>\n",
              "      <td>782.644101</td>\n",
              "      <td>5.0</td>\n",
              "    </tr>\n",
              "    <tr>\n",
              "      <th>TrainSales</th>\n",
              "      <td>-1733.839691</td>\n",
              "      <td>0.0</td>\n",
              "      <td>1989.220444</td>\n",
              "      <td>5.0</td>\n",
              "    </tr>\n",
              "  </tbody>\n",
              "</table>\n",
              "</div>"
            ],
            "text/plain": [
              "                min_cutoff  below_min     max_cutoff  above_max\n",
              "Attainment       -0.832813        0.0       2.185121        7.0\n",
              "Calls            24.715405        1.0      95.715885        0.0\n",
              "Emails         -678.902271        0.0    1907.165870        8.0\n",
              "Engagement        2.367018        0.0       5.046764        0.0\n",
              "HasDegree       -11.003005        0.0      12.585641        4.0\n",
              "HoursWorked  -13589.766999        0.0   15551.793851        5.0\n",
              "Live             -0.084663        0.0       0.969638        0.0\n",
              "Meetings          6.305889        0.0      41.715032        0.0\n",
              "Pipeline     151697.776362        0.0  421955.089747        0.0\n",
              "Prizes          502.132505        0.0    4013.574608        0.0\n",
              "Questions      -144.863838        0.0     164.504430        5.0\n",
              "Ratio             0.117968        0.0       1.156445        0.0\n",
              "Sentiment      -149.598025        0.0     172.751008        5.0\n",
              "TeamSize          1.743143        0.0      15.788238        0.0\n",
              "TrainProd      -688.115560        0.0     782.644101        5.0\n",
              "TrainSales    -1733.839691        0.0    1989.220444        5.0"
            ]
          },
          "metadata": {
            "tags": []
          },
          "execution_count": 320
        }
      ]
    },
    {
      "cell_type": "markdown",
      "metadata": {
        "id": "A9w2LjETk5D-"
      },
      "source": [
        "# Step 1 - Data Cleaning"
      ]
    },
    {
      "cell_type": "code",
      "metadata": {
        "id": "Ta_KpBK604HS"
      },
      "source": [
        "# median imputation for nulls\n",
        "\n",
        "sales = sales.fillna(\n",
        "    value = {\n",
        "        \"Calls\" : sales[\"Calls\"].median(),\n",
        "        \"Engagement\" : sales[\"Engagement\"].median(),\n",
        "        \"HoursWorked\" : sales[\"HoursWorked\"].median(),\n",
        "        \"Questions\" : sales[\"Questions\"].median(),\n",
        "        \"Sentiment\" : sales[\"Sentiment\"].median(),\n",
        "        \"TrainProd\" : sales[\"TrainProd\"].median()\n",
        "    }\n",
        ")"
      ],
      "execution_count": null,
      "outputs": []
    },
    {
      "cell_type": "code",
      "metadata": {
        "id": "Jxy4YS711W3v",
        "colab": {
          "base_uri": "https://localhost:8080/",
          "height": 306
        },
        "outputId": "d2572c41-5db4-4046-88ea-3f4bff8b8530"
      },
      "source": [
        "sales.isnull().sum()\n",
        "#looks like it worked for the nulls"
      ],
      "execution_count": null,
      "outputs": [
        {
          "output_type": "execute_result",
          "data": {
            "text/plain": [
              "Attainment     0\n",
              "Calls          0\n",
              "Emails         0\n",
              "Engagement     0\n",
              "HasDegree      0\n",
              "HoursWorked    0\n",
              "Live           0\n",
              "Meetings       0\n",
              "Pipeline       0\n",
              "Prizes         0\n",
              "Questions      0\n",
              "Ratio          0\n",
              "Sentiment      0\n",
              "TeamSize       0\n",
              "TrainProd      0\n",
              "TrainSales     0\n",
              "dtype: int64"
            ]
          },
          "metadata": {
            "tags": []
          },
          "execution_count": 322
        }
      ]
    },
    {
      "cell_type": "code",
      "metadata": {
        "id": "_Neps6Kr5Az9"
      },
      "source": [
        "# median imputation for nulls\n",
        "\n",
        "check = pd.DataFrame(columns=[\"min_cutoff\", \"max_cutoff\"])\n",
        "\n",
        "for col in sales.columns:\n",
        "\n",
        "  if pd.api.types.is_numeric_dtype(sales[col]) and not \\\n",
        "  all(sales[col].value_counts().index.isin([1,0])):\n",
        "\n",
        "    min_cutoff = sales[col].mean() - sales[col].std() * 3\n",
        "    max_cutoff = sales[col].mean() + sales[col].std() * 3\n",
        "    \n",
        "    if col != \"Attainment\":\n",
        "      for i, value in enumerate(sales[col]):\n",
        "        if value < min_cutoff:\n",
        "          sales = sales.replace(value, sales[col].median())\n",
        "        elif value > max_cutoff:\n",
        "          sales = sales.replace(value, sales[col].median())\n",
        "\n",
        "    check.loc[col] = (min_cutoff, max_cutoff)"
      ],
      "execution_count": null,
      "outputs": []
    },
    {
      "cell_type": "code",
      "metadata": {
        "id": "zV8q5V0-8mcx"
      },
      "source": [
        "check[\"Max\"] = sales.max()\n",
        "check[\"Min\"] = sales.min()"
      ],
      "execution_count": null,
      "outputs": []
    },
    {
      "cell_type": "code",
      "metadata": {
        "id": "N0XOO76y_Z_g",
        "colab": {
          "base_uri": "https://localhost:8080/",
          "height": 545
        },
        "outputId": "91bc1c61-2a09-4c45-c689-37c3bf968cc8"
      },
      "source": [
        "check\n",
        "# looks like it worked for outliers, because all max and min values are within the cutoffs"
      ],
      "execution_count": null,
      "outputs": [
        {
          "output_type": "execute_result",
          "data": {
            "text/html": [
              "<div>\n",
              "<style scoped>\n",
              "    .dataframe tbody tr th:only-of-type {\n",
              "        vertical-align: middle;\n",
              "    }\n",
              "\n",
              "    .dataframe tbody tr th {\n",
              "        vertical-align: top;\n",
              "    }\n",
              "\n",
              "    .dataframe thead th {\n",
              "        text-align: right;\n",
              "    }\n",
              "</style>\n",
              "<table border=\"1\" class=\"dataframe\">\n",
              "  <thead>\n",
              "    <tr style=\"text-align: right;\">\n",
              "      <th></th>\n",
              "      <th>min_cutoff</th>\n",
              "      <th>max_cutoff</th>\n",
              "      <th>Max</th>\n",
              "      <th>Min</th>\n",
              "    </tr>\n",
              "  </thead>\n",
              "  <tbody>\n",
              "    <tr>\n",
              "      <th>Attainment</th>\n",
              "      <td>-0.832813</td>\n",
              "      <td>2.185121</td>\n",
              "      <td>3.296522</td>\n",
              "      <td>0.053575</td>\n",
              "    </tr>\n",
              "    <tr>\n",
              "      <th>Calls</th>\n",
              "      <td>24.909346</td>\n",
              "      <td>95.538352</td>\n",
              "      <td>93.000000</td>\n",
              "      <td>0.500000</td>\n",
              "    </tr>\n",
              "    <tr>\n",
              "      <th>Emails</th>\n",
              "      <td>-678.902271</td>\n",
              "      <td>1907.165870</td>\n",
              "      <td>1869.000000</td>\n",
              "      <td>5.000000</td>\n",
              "    </tr>\n",
              "    <tr>\n",
              "      <th>Engagement</th>\n",
              "      <td>2.374043</td>\n",
              "      <td>5.039707</td>\n",
              "      <td>4.629195</td>\n",
              "      <td>2.648679</td>\n",
              "    </tr>\n",
              "    <tr>\n",
              "      <th>HasDegree</th>\n",
              "      <td>-11.003005</td>\n",
              "      <td>12.585641</td>\n",
              "      <td>1.000000</td>\n",
              "      <td>0.000000</td>\n",
              "    </tr>\n",
              "    <tr>\n",
              "      <th>HoursWorked</th>\n",
              "      <td>-13519.227010</td>\n",
              "      <td>15470.804664</td>\n",
              "      <td>536.141246</td>\n",
              "      <td>413.711466</td>\n",
              "    </tr>\n",
              "    <tr>\n",
              "      <th>Live</th>\n",
              "      <td>-0.084663</td>\n",
              "      <td>0.969638</td>\n",
              "      <td>0.845823</td>\n",
              "      <td>-0.063946</td>\n",
              "    </tr>\n",
              "    <tr>\n",
              "      <th>Meetings</th>\n",
              "      <td>6.305889</td>\n",
              "      <td>41.715032</td>\n",
              "      <td>41.000000</td>\n",
              "      <td>7.000000</td>\n",
              "    </tr>\n",
              "    <tr>\n",
              "      <th>Pipeline</th>\n",
              "      <td>151697.776362</td>\n",
              "      <td>421955.089747</td>\n",
              "      <td>393524.000000</td>\n",
              "      <td>182589.000000</td>\n",
              "    </tr>\n",
              "    <tr>\n",
              "      <th>Prizes</th>\n",
              "      <td>482.176443</td>\n",
              "      <td>4025.091339</td>\n",
              "      <td>3787.000000</td>\n",
              "      <td>518.000000</td>\n",
              "    </tr>\n",
              "    <tr>\n",
              "      <th>Questions</th>\n",
              "      <td>-144.108458</td>\n",
              "      <td>163.648207</td>\n",
              "      <td>8.000000</td>\n",
              "      <td>1.000000</td>\n",
              "    </tr>\n",
              "    <tr>\n",
              "      <th>Ratio</th>\n",
              "      <td>0.117968</td>\n",
              "      <td>1.156445</td>\n",
              "      <td>1.145810</td>\n",
              "      <td>0.179530</td>\n",
              "    </tr>\n",
              "    <tr>\n",
              "      <th>Sentiment</th>\n",
              "      <td>-148.816658</td>\n",
              "      <td>171.855727</td>\n",
              "      <td>8.837322</td>\n",
              "      <td>2.895637</td>\n",
              "    </tr>\n",
              "    <tr>\n",
              "      <th>TeamSize</th>\n",
              "      <td>1.743143</td>\n",
              "      <td>15.788238</td>\n",
              "      <td>15.000000</td>\n",
              "      <td>2.000000</td>\n",
              "    </tr>\n",
              "    <tr>\n",
              "      <th>TrainProd</th>\n",
              "      <td>-682.501387</td>\n",
              "      <td>780.976283</td>\n",
              "      <td>61.000000</td>\n",
              "      <td>0.500000</td>\n",
              "    </tr>\n",
              "    <tr>\n",
              "      <th>TrainSales</th>\n",
              "      <td>-1733.839691</td>\n",
              "      <td>1989.220444</td>\n",
              "      <td>90.000000</td>\n",
              "      <td>32.000000</td>\n",
              "    </tr>\n",
              "  </tbody>\n",
              "</table>\n",
              "</div>"
            ],
            "text/plain": [
              "                min_cutoff     max_cutoff            Max            Min\n",
              "Attainment       -0.832813       2.185121       3.296522       0.053575\n",
              "Calls            24.909346      95.538352      93.000000       0.500000\n",
              "Emails         -678.902271    1907.165870    1869.000000       5.000000\n",
              "Engagement        2.374043       5.039707       4.629195       2.648679\n",
              "HasDegree       -11.003005      12.585641       1.000000       0.000000\n",
              "HoursWorked  -13519.227010   15470.804664     536.141246     413.711466\n",
              "Live             -0.084663       0.969638       0.845823      -0.063946\n",
              "Meetings          6.305889      41.715032      41.000000       7.000000\n",
              "Pipeline     151697.776362  421955.089747  393524.000000  182589.000000\n",
              "Prizes          482.176443    4025.091339    3787.000000     518.000000\n",
              "Questions      -144.108458     163.648207       8.000000       1.000000\n",
              "Ratio             0.117968       1.156445       1.145810       0.179530\n",
              "Sentiment      -148.816658     171.855727       8.837322       2.895637\n",
              "TeamSize          1.743143      15.788238      15.000000       2.000000\n",
              "TrainProd      -682.501387     780.976283      61.000000       0.500000\n",
              "TrainSales    -1733.839691    1989.220444      90.000000      32.000000"
            ]
          },
          "metadata": {
            "tags": []
          },
          "execution_count": 325
        }
      ]
    },
    {
      "cell_type": "code",
      "metadata": {
        "id": "GJVEO7T3BR2j"
      },
      "source": [
        "# Write to cleaned csv file\n",
        "sales.to_csv(\"/content/drive/My Drive/FinchMalorie_Data.csv\")"
      ],
      "execution_count": null,
      "outputs": []
    },
    {
      "cell_type": "markdown",
      "metadata": {
        "id": "c41LJK78kzY_"
      },
      "source": [
        "# Step 2 - EDA"
      ]
    },
    {
      "cell_type": "code",
      "metadata": {
        "id": "Y9aofDDTCtxe"
      },
      "source": [
        "myDict = {\n",
        "    'VariableName' : sales.columns, \n",
        "    'Min' : sales.min(), \n",
        "    'Max' : sales.max(), \n",
        "    'Median' : sales.median(), \n",
        "    'Mean' : sales.mean(), \n",
        "    'StdDeviation' : sales.std(), \n",
        "    'IsNormal' : True, \n",
        "    'CorrelationWithOutput' : 0\n",
        "}\n",
        "summary = pd.DataFrame(myDict)"
      ],
      "execution_count": null,
      "outputs": []
    },
    {
      "cell_type": "code",
      "metadata": {
        "id": "sl3THSKnDl3O",
        "colab": {
          "base_uri": "https://localhost:8080/",
          "height": 289
        },
        "outputId": "ecf7bd90-6a8f-4429-8962-bbd1bb8a58d8"
      },
      "source": [
        "# The conservative \"rule of thumb\" regarding skewness and kurtosis is \n",
        "# that they must be within the range of -1 to 1 in order to be considered \"normal enough\" \n",
        "\n",
        "normality = pd.DataFrame(columns=['normality'])\n",
        "\n",
        "for col in sales.columns:\n",
        "  skew = sales[col].skew()\n",
        "  kurt = sales[col].kurt()\n",
        "\n",
        "  if (abs(skew) > 1 or abs(kurt) > 1):\n",
        "    print(col, abs(skew), abs(kurt))  #to check\n",
        "    normality.loc[col] = \"False\"\n",
        "  else:\n",
        "    print(col, abs(skew), abs(kurt))  #check\n",
        "    normality.loc[col] = \"True\"\n",
        "\n",
        "summary[\"IsNormal\"] = normality"
      ],
      "execution_count": null,
      "outputs": [
        {
          "output_type": "stream",
          "text": [
            "Attainment 1.4607203739896502 2.704106792516662\n",
            "Calls 1.3228456236568864 4.212558186358908\n",
            "Emails 1.0059563381983354 0.7190657360528427\n",
            "Engagement 0.0704460024413192 1.1987505802263465\n",
            "HasDegree 0.0695825999641294 1.3671442556742195\n",
            "HoursWorked 0.0269788266155303 0.2469035487287239\n",
            "Live 0.045017653971963376 0.987324352122418\n",
            "Meetings 0.16808437021307734 0.06598590529722959\n",
            "Pipeline 0.032184555927709704 1.062265825396002\n",
            "Prizes 0.06916437646300051 0.27669154517882344\n",
            "Questions 0.10826410095773013 0.0531906882226596\n",
            "Ratio 0.025814375416609137 0.15324739269733856\n",
            "Sentiment 0.0741476309278651 0.9450290797864174\n",
            "TeamSize 0.003375388436528641 0.21180600718570153\n",
            "TrainProd 1.3706974623411492 2.7369141358602653\n",
            "TrainSales 0.048632510785379064 0.03194553502852093\n"
          ],
          "name": "stdout"
        }
      ]
    },
    {
      "cell_type": "code",
      "metadata": {
        "id": "AFF4T7bbENo2",
        "colab": {
          "base_uri": "https://localhost:8080/",
          "height": 295
        },
        "outputId": "bde5bdf0-a548-4c56-d2a0-d457f0c429cc"
      },
      "source": [
        "# include a histogram of your output variable\n",
        "\n",
        "# Summary statistics included somewhere on the plot \n",
        "#(the average for a univariate plot, the correlation coecient for a bivariate plot)\n",
        "\n",
        "s= \"Average Attainment: \" + str(round(sales[\"Attainment\"].mean(),2))\n",
        "\n",
        "plt.hist(sales[\"Attainment\"], color=\"orange\")\n",
        "plt.title(\"Attainment Histogram\")\n",
        "plt.xlabel(\"Attainment\")\n",
        "plt.ylabel(\"Count\")\n",
        "plt.text(1.75,100, s=s)\n",
        "plt.show()"
      ],
      "execution_count": null,
      "outputs": [
        {
          "output_type": "display_data",
          "data": {
            "image/png": "[encoded data removed]",
            "text/plain": [
              "<Figure size 432x288 with 1 Axes>"
            ]
          },
          "metadata": {
            "tags": [],
            "needs_background": "light"
          }
        }
      ]
    },
    {
      "cell_type": "markdown",
      "metadata": {
        "id": "7tYmRsvBkvo-"
      },
      "source": [
        "# Step 3 - Picking the variables for your report"
      ]
    },
    {
      "cell_type": "code",
      "metadata": {
        "id": "5iPpPcWaMvqu"
      },
      "source": [
        "# adding correlation column\n",
        "corr = pd.DataFrame(columns=['corr'])\n",
        "\n",
        "for col in sales.columns:\n",
        "  correlate = sales[\"Attainment\"].corr(sales[col])\n",
        "  corr.loc[col] = correlate\n",
        "\n",
        "summary[\"CorrelationWithOutput\"] = corr"
      ],
      "execution_count": null,
      "outputs": []
    },
    {
      "cell_type": "code",
      "metadata": {
        "id": "507iF1KvOtR5"
      },
      "source": [
        "# Write to cleaned csv file\n",
        "summary.to_csv(\"/content/drive/My Drive/FinchMalorie_EDA.csv\")"
      ],
      "execution_count": null,
      "outputs": []
    },
    {
      "cell_type": "code",
      "metadata": {
        "id": "s03cjOM7PHV1",
        "colab": {
          "base_uri": "https://localhost:8080/",
          "height": 545
        },
        "outputId": "6245a049-76c8-4d95-d120-a7494c3582dc"
      },
      "source": [
        "summary.sort_values(by=[\"CorrelationWithOutput\"], ascending=False)"
      ],
      "execution_count": null,
      "outputs": [
        {
          "output_type": "execute_result",
          "data": {
            "text/html": [
              "<div>\n",
              "<style scoped>\n",
              "    .dataframe tbody tr th:only-of-type {\n",
              "        vertical-align: middle;\n",
              "    }\n",
              "\n",
              "    .dataframe tbody tr th {\n",
              "        vertical-align: top;\n",
              "    }\n",
              "\n",
              "    .dataframe thead th {\n",
              "        text-align: right;\n",
              "    }\n",
              "</style>\n",
              "<table border=\"1\" class=\"dataframe\">\n",
              "  <thead>\n",
              "    <tr style=\"text-align: right;\">\n",
              "      <th></th>\n",
              "      <th>VariableName</th>\n",
              "      <th>Min</th>\n",
              "      <th>Max</th>\n",
              "      <th>Median</th>\n",
              "      <th>Mean</th>\n",
              "      <th>StdDeviation</th>\n",
              "      <th>IsNormal</th>\n",
              "      <th>CorrelationWithOutput</th>\n",
              "    </tr>\n",
              "  </thead>\n",
              "  <tbody>\n",
              "    <tr>\n",
              "      <th>Attainment</th>\n",
              "      <td>Attainment</td>\n",
              "      <td>0.053575</td>\n",
              "      <td>3.296522</td>\n",
              "      <td>0.555141</td>\n",
              "      <td>0.676154</td>\n",
              "      <td>0.502989</td>\n",
              "      <td>False</td>\n",
              "      <td>1.000000</td>\n",
              "    </tr>\n",
              "    <tr>\n",
              "      <th>Pipeline</th>\n",
              "      <td>Pipeline</td>\n",
              "      <td>182589.000000</td>\n",
              "      <td>393524.000000</td>\n",
              "      <td>287328.000000</td>\n",
              "      <td>286826.433054</td>\n",
              "      <td>45042.885564</td>\n",
              "      <td>False</td>\n",
              "      <td>0.632408</td>\n",
              "    </tr>\n",
              "    <tr>\n",
              "      <th>Live</th>\n",
              "      <td>Live</td>\n",
              "      <td>-0.063946</td>\n",
              "      <td>0.845823</td>\n",
              "      <td>0.416401</td>\n",
              "      <td>0.442488</td>\n",
              "      <td>0.175717</td>\n",
              "      <td>True</td>\n",
              "      <td>0.619961</td>\n",
              "    </tr>\n",
              "    <tr>\n",
              "      <th>Engagement</th>\n",
              "      <td>Engagement</td>\n",
              "      <td>2.648679</td>\n",
              "      <td>4.629195</td>\n",
              "      <td>3.705335</td>\n",
              "      <td>3.706875</td>\n",
              "      <td>0.444277</td>\n",
              "      <td>False</td>\n",
              "      <td>0.619398</td>\n",
              "    </tr>\n",
              "    <tr>\n",
              "      <th>Sentiment</th>\n",
              "      <td>Sentiment</td>\n",
              "      <td>2.895637</td>\n",
              "      <td>8.837322</td>\n",
              "      <td>6.131435</td>\n",
              "      <td>6.068376</td>\n",
              "      <td>1.247619</td>\n",
              "      <td>True</td>\n",
              "      <td>0.608089</td>\n",
              "    </tr>\n",
              "    <tr>\n",
              "      <th>Prizes</th>\n",
              "      <td>Prizes</td>\n",
              "      <td>518.000000</td>\n",
              "      <td>3787.000000</td>\n",
              "      <td>2256.000000</td>\n",
              "      <td>2253.633891</td>\n",
              "      <td>590.485816</td>\n",
              "      <td>True</td>\n",
              "      <td>0.361670</td>\n",
              "    </tr>\n",
              "    <tr>\n",
              "      <th>Questions</th>\n",
              "      <td>Questions</td>\n",
              "      <td>1.000000</td>\n",
              "      <td>8.000000</td>\n",
              "      <td>5.000000</td>\n",
              "      <td>4.592050</td>\n",
              "      <td>1.152383</td>\n",
              "      <td>True</td>\n",
              "      <td>0.350606</td>\n",
              "    </tr>\n",
              "    <tr>\n",
              "      <th>TrainSales</th>\n",
              "      <td>TrainSales</td>\n",
              "      <td>32.000000</td>\n",
              "      <td>90.000000</td>\n",
              "      <td>64.000000</td>\n",
              "      <td>64.133891</td>\n",
              "      <td>9.006570</td>\n",
              "      <td>True</td>\n",
              "      <td>0.348311</td>\n",
              "    </tr>\n",
              "    <tr>\n",
              "      <th>Calls</th>\n",
              "      <td>Calls</td>\n",
              "      <td>0.500000</td>\n",
              "      <td>93.000000</td>\n",
              "      <td>60.000000</td>\n",
              "      <td>58.599372</td>\n",
              "      <td>14.470966</td>\n",
              "      <td>False</td>\n",
              "      <td>0.105764</td>\n",
              "    </tr>\n",
              "    <tr>\n",
              "      <th>HoursWorked</th>\n",
              "      <td>HoursWorked</td>\n",
              "      <td>413.711466</td>\n",
              "      <td>536.141246</td>\n",
              "      <td>481.541723</td>\n",
              "      <td>480.164129</td>\n",
              "      <td>19.229329</td>\n",
              "      <td>True</td>\n",
              "      <td>0.059279</td>\n",
              "    </tr>\n",
              "    <tr>\n",
              "      <th>Meetings</th>\n",
              "      <td>Meetings</td>\n",
              "      <td>7.000000</td>\n",
              "      <td>41.000000</td>\n",
              "      <td>24.000000</td>\n",
              "      <td>24.010460</td>\n",
              "      <td>5.901524</td>\n",
              "      <td>True</td>\n",
              "      <td>0.028506</td>\n",
              "    </tr>\n",
              "    <tr>\n",
              "      <th>Emails</th>\n",
              "      <td>Emails</td>\n",
              "      <td>5.000000</td>\n",
              "      <td>1869.000000</td>\n",
              "      <td>517.000000</td>\n",
              "      <td>584.780318</td>\n",
              "      <td>377.742795</td>\n",
              "      <td>False</td>\n",
              "      <td>0.028143</td>\n",
              "    </tr>\n",
              "    <tr>\n",
              "      <th>TrainProd</th>\n",
              "      <td>TrainProd</td>\n",
              "      <td>0.500000</td>\n",
              "      <td>61.000000</td>\n",
              "      <td>23.000000</td>\n",
              "      <td>24.582636</td>\n",
              "      <td>13.033257</td>\n",
              "      <td>False</td>\n",
              "      <td>0.026675</td>\n",
              "    </tr>\n",
              "    <tr>\n",
              "      <th>HasDegree</th>\n",
              "      <td>HasDegree</td>\n",
              "      <td>0.000000</td>\n",
              "      <td>1.000000</td>\n",
              "      <td>0.500000</td>\n",
              "      <td>0.481695</td>\n",
              "      <td>0.360605</td>\n",
              "      <td>False</td>\n",
              "      <td>-0.128781</td>\n",
              "    </tr>\n",
              "    <tr>\n",
              "      <th>TeamSize</th>\n",
              "      <td>TeamSize</td>\n",
              "      <td>2.000000</td>\n",
              "      <td>15.000000</td>\n",
              "      <td>9.000000</td>\n",
              "      <td>8.765690</td>\n",
              "      <td>2.340849</td>\n",
              "      <td>True</td>\n",
              "      <td>-0.292214</td>\n",
              "    </tr>\n",
              "    <tr>\n",
              "      <th>Ratio</th>\n",
              "      <td>Ratio</td>\n",
              "      <td>0.179530</td>\n",
              "      <td>1.145810</td>\n",
              "      <td>0.642087</td>\n",
              "      <td>0.637207</td>\n",
              "      <td>0.173080</td>\n",
              "      <td>True</td>\n",
              "      <td>-0.320747</td>\n",
              "    </tr>\n",
              "  </tbody>\n",
              "</table>\n",
              "</div>"
            ],
            "text/plain": [
              "            VariableName            Min  ...  IsNormal  CorrelationWithOutput\n",
              "Attainment    Attainment       0.053575  ...     False               1.000000\n",
              "Pipeline        Pipeline  182589.000000  ...     False               0.632408\n",
              "Live                Live      -0.063946  ...      True               0.619961\n",
              "Engagement    Engagement       2.648679  ...     False               0.619398\n",
              "Sentiment      Sentiment       2.895637  ...      True               0.608089\n",
              "Prizes            Prizes     518.000000  ...      True               0.361670\n",
              "Questions      Questions       1.000000  ...      True               0.350606\n",
              "TrainSales    TrainSales      32.000000  ...      True               0.348311\n",
              "Calls              Calls       0.500000  ...     False               0.105764\n",
              "HoursWorked  HoursWorked     413.711466  ...      True               0.059279\n",
              "Meetings        Meetings       7.000000  ...      True               0.028506\n",
              "Emails            Emails       5.000000  ...     False               0.028143\n",
              "TrainProd      TrainProd       0.500000  ...     False               0.026675\n",
              "HasDegree      HasDegree       0.000000  ...     False              -0.128781\n",
              "TeamSize        TeamSize       2.000000  ...      True              -0.292214\n",
              "Ratio              Ratio       0.179530  ...      True              -0.320747\n",
              "\n",
              "[16 rows x 8 columns]"
            ]
          },
          "metadata": {
            "tags": []
          },
          "execution_count": 332
        }
      ]
    },
    {
      "cell_type": "markdown",
      "metadata": {
        "id": "P99AnbdWkpwM"
      },
      "source": [
        "# Step 4 - Defend your choices"
      ]
    },
    {
      "cell_type": "markdown",
      "metadata": {
        "id": "9E2Read6cn2L"
      },
      "source": [
        "1. A two-three sentence explanation of correlation and why it's useful in this context\n",
        "\n",
        "Within Data Analysis with bivariate data, it is important to understand the relationship between pairs of variables. Within this context of the Sales data, as TeamSize (or any other feature of the data) increases, does Attainment, our output, increase, decrease or remain the same?\n",
        "We would like to find a \"cause and effect\" relationship, so that in future decision making within the company at hand, decisions made will be more informed, and consequences of those decisions will have been foreseen.\n",
        "\n",
        "The correlation coefficient calculated in the summary dataframe ranges from -1 to 1 and indicates a positive or negative relationship between the dependent and independent variables. The further from 0 the correlation coefficient is, the more strong the relationship is. \n",
        "\n",
        "# According to the sorted Summary dataframe, it looks like Pipeline, Live, Engagement, and Sentiment are among the variables with the most correlation with Attainment.\n",
        "\n",
        "\n"
      ]
    },
    {
      "cell_type": "code",
      "metadata": {
        "id": "61vJF2XYcnO4",
        "colab": {
          "base_uri": "https://localhost:8080/",
          "height": 366
        },
        "outputId": "b5c48559-c517-4fb1-b05a-23d60d9738cd"
      },
      "source": [
        "# 2. A scatterplot of each of your selected variables with the output variable\n",
        "\n",
        "strong_variables = sales[[\"Attainment\", \"Pipeline\", \"Live\", \"Engagement\", \"Sentiment\"]]\n",
        "\n",
        "s = \"Pipeline Correlation Coefficient: \" + str(round(strong_variables[\"Attainment\"].corr(strong_variables[\"Pipeline\"]),2))\n",
        "fig=plt.figure()\n",
        "ax=fig.add_axes([0,0,1,1])\n",
        "ax.scatter(strong_variables[\"Attainment\"], strong_variables[\"Pipeline\"], color='r')\n",
        "ax.set_xlabel(\"Attainment\")\n",
        "ax.set_ylabel(\"Pipeline\")\n",
        "ax.set_title(\"Pipeline Scatter Plot\")\n",
        "ax.text(.9,190000,s=s)\n",
        "plt.show()"
      ],
      "execution_count": null,
      "outputs": [
        {
          "output_type": "display_data",
          "data": {
            "image/png": "[encoded data removed]",
            "text/plain": [
              "<Figure size 432x288 with 1 Axes>"
            ]
          },
          "metadata": {
            "tags": [],
            "needs_background": "light"
          }
        }
      ]
    },
    {
      "cell_type": "code",
      "metadata": {
        "id": "-LTxspciei5D",
        "colab": {
          "base_uri": "https://localhost:8080/",
          "height": 366
        },
        "outputId": "0185efbd-854d-46c7-d1f7-2430e3ace6ed"
      },
      "source": [
        "s = \"Live Correlation Coefficient: \" + str(round(strong_variables[\"Attainment\"].corr(strong_variables[\"Live\"]),2))\n",
        "fig=plt.figure()\n",
        "ax=fig.add_axes([0,0,1,1])\n",
        "ax.scatter(strong_variables[\"Attainment\"], strong_variables[\"Live\"], color='m')\n",
        "ax.set_xlabel(\"Attainment\")\n",
        "ax.set_ylabel(\"Live\")\n",
        "ax.set_title(\"Live Scatter Plot\")\n",
        "ax.text(2,.2,s=s)\n",
        "plt.show()"
      ],
      "execution_count": null,
      "outputs": [
        {
          "output_type": "display_data",
          "data": {
            "image/png": "[encoded data removed]",
            "text/plain": [
              "<Figure size 432x288 with 1 Axes>"
            ]
          },
          "metadata": {
            "tags": [],
            "needs_background": "light"
          }
        }
      ]
    },
    {
      "cell_type": "code",
      "metadata": {
        "id": "1q56z0R0im41",
        "colab": {
          "base_uri": "https://localhost:8080/",
          "height": 366
        },
        "outputId": "2e4e5f3d-7278-4509-d6c4-1101af41c784"
      },
      "source": [
        "s = \"Engagement Correlation Coefficient: \" + str(round(strong_variables[\"Attainment\"].corr(strong_variables[\"Engagement\"]),2))\n",
        "fig=plt.figure()\n",
        "ax=fig.add_axes([0,0,1,1])\n",
        "ax.scatter(strong_variables[\"Attainment\"], strong_variables[\"Engagement\"], color='g')\n",
        "ax.set_xlabel(\"Attainment\")\n",
        "ax.set_ylabel(\"Engagement\")\n",
        "ax.set_title(\"Engagement Scatter Plot\")\n",
        "ax.text(1.5,3.25,s=s)\n",
        "plt.show()"
      ],
      "execution_count": null,
      "outputs": [
        {
          "output_type": "display_data",
          "data": {
            "image/png": "[encoded data removed]",
            "text/plain": [
              "<Figure size 432x288 with 1 Axes>"
            ]
          },
          "metadata": {
            "tags": [],
            "needs_background": "light"
          }
        }
      ]
    },
    {
      "cell_type": "code",
      "metadata": {
        "id": "H9_tQeEdjMBF",
        "colab": {
          "base_uri": "https://localhost:8080/",
          "height": 366
        },
        "outputId": "cceead30-22c1-4c92-cdcb-856693c85157"
      },
      "source": [
        "s = \"Sentiment Correlation Coefficient: \" + str(round(strong_variables[\"Attainment\"].corr(strong_variables[\"Sentiment\"]),2))\n",
        "fig=plt.figure()\n",
        "ax=fig.add_axes([0,0,1,1])\n",
        "ax.scatter(strong_variables[\"Attainment\"], strong_variables[\"Sentiment\"], color='y')\n",
        "ax.set_xlabel(\"Attainment\")\n",
        "ax.set_ylabel(\"Sentiment\")\n",
        "ax.set_title(\"Sentiment Scatter Plot\")\n",
        "ax.text(1.5,3.25,s=s)\n",
        "plt.show()"
      ],
      "execution_count": null,
      "outputs": [
        {
          "output_type": "display_data",
          "data": {
            "image/png": "[encoded data removed]",
            "text/plain": [
              "<Figure size 432x288 with 1 Axes>"
            ]
          },
          "metadata": {
            "tags": [],
            "needs_background": "light"
          }
        }
      ]
    },
    {
      "cell_type": "markdown",
      "metadata": {
        "id": "wjoSpiqglUwA"
      },
      "source": [
        "Thank you for reading this report!"
      ]
    }
  ]
}